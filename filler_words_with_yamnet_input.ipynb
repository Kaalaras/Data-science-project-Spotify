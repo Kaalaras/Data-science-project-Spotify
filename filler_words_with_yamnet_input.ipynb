{
 "cells": [
  {
   "cell_type": "code",
   "execution_count": 1,
   "id": "fTb6OGGiRe5J",
   "metadata": {
    "id": "fTb6OGGiRe5J"
   },
   "outputs": [],
   "source": [
    "# !pip install tensorflow==2.8.0\n",
    "#or\n",
    "# !pip install tensorflow-gpu==2.8.0\n",
    "# import tensorflow as tf\n",
    "\n",
    "# !pip install tensorflow-io==0.25.0"
   ]
  },
  {
   "cell_type": "code",
   "execution_count": 2,
   "id": "NVaGezGIQi1l",
   "metadata": {
    "colab": {
     "base_uri": "https://localhost:8080/",
     "height": 328
    },
    "id": "NVaGezGIQi1l",
    "outputId": "c3bbb5b3-7548-4826-e4c4-27216df145f8"
   },
   "outputs": [],
   "source": [
    "# from google.colab import drive\n",
    "# drive.mount('/content/drive')"
   ]
  },
  {
   "cell_type": "code",
   "execution_count": 3,
   "id": "2Bnz23XsQKha",
   "metadata": {
    "id": "2Bnz23XsQKha"
   },
   "outputs": [],
   "source": [
    "# !pip install tensorflow_io \n",
    "# !pip install audb\n",
    "# !pip install audiofile\n",
    "# !pip install opensmile"
   ]
  },
  {
   "cell_type": "code",
   "execution_count": 4,
   "id": "50c49932",
   "metadata": {
    "id": "50c49932"
   },
   "outputs": [],
   "source": [
    "import os\n",
    "import pickle\n",
    "\n",
    "import pandas as pd\n",
    "import matplotlib.pyplot as plt\n",
    "import numpy as np\n",
    "\n",
    "import tensorflow as tf\n",
    "import tensorflow_hub as hub\n",
    "import tensorflow_io as tfio\n",
    "from tensorflow_io import audio\n",
    "import csv\n",
    "\n",
    "import librosa\n",
    "from scipy.io import wavfile\n",
    "from IPython.display import Audio\n",
    "\n",
    "from glob import glob\n",
    "import random\n",
    "from keras.utils.np_utils import to_categorical\n",
    "import tensorflow as tf\n",
    "from sklearn.preprocessing import OrdinalEncoder\n",
    "import scipy\n",
    "\n",
    "import os\n",
    "import time\n",
    "\n",
    "import numpy as np\n",
    "import pandas as pd\n",
    "\n",
    "import audb\n",
    "import audiofile\n",
    "import opensmile\n",
    "\n"
   ]
  },
  {
   "cell_type": "code",
   "execution_count": 5,
   "id": "36591231",
   "metadata": {
    "id": "36591231"
   },
   "outputs": [
    {
     "name": "stdout",
     "output_type": "stream",
     "text": [
      "INFO:tensorflow:Using MirroredStrategy with devices ('/job:localhost/replica:0/task:0/device:GPU:0',)\n",
      "REPLICAS:  1\n"
     ]
    }
   ],
   "source": [
    "# Detect hardware, return appropriate distribution strategy\n",
    "try:\n",
    "    tpu = tf.distribute.cluster_resolver.TPUClusterResolver()  # TPU detection. No parameters necessary if TPU_NAME environment variable is set. On Kaggle this is always the case.\n",
    "    print('Running on TPU ', tpu.master())\n",
    "except ValueError:\n",
    "    tpu = None\n",
    "\n",
    "if tpu:\n",
    "    tf.config.experimental_connect_to_cluster(tpu)\n",
    "    tf.tpu.experimental.initialize_tpu_system(tpu)\n",
    "    strategy = tf.distribute.experimental.TPUStrategy(tpu)\n",
    "else:\n",
    "    # strategy = tf.distribute.get_strategy() # default distribution strategy in Tensorflow. Works on CPU and single GPU.\n",
    "    strategy = tf.distribute.MirroredStrategy()\n",
    "print(\"REPLICAS: \", strategy.num_replicas_in_sync)"
   ]
  },
  {
   "cell_type": "code",
   "execution_count": 6,
   "id": "9d034cce",
   "metadata": {
    "id": "9d034cce"
   },
   "outputs": [],
   "source": [
    "path = r\"C:\\Users\\bapti\\KTH\\clip_wav\"\n",
    "test_path = r\"C:\\Users\\bapti\\KTH\\clip_wav\\test\"\n",
    "valid_path = r\"C:\\Users\\bapti\\KTH\\clip_wav\\validation\"\n",
    "train_path = r\"C:\\Users\\bapti\\KTH\\clip_wav\\train\"\n",
    "\n",
    "labels_path = r\"C:\\Users\\bapti\\KTH\\PodcastFillers.csv\"\n",
    "checkpoint_filepath = r\"C:\\Users\\bapti\\KTH\\checkpoints\\checkpoint\""
   ]
  },
  {
   "cell_type": "code",
   "execution_count": 7,
   "id": "9c0f441d",
   "metadata": {
    "id": "9c0f441d"
   },
   "outputs": [],
   "source": [
    "test_files = os.listdir(path = test_path)\n",
    "train_files = os.listdir(path =  train_path)\n",
    "valid_files = os.listdir(path =  valid_path)"
   ]
  },
  {
   "cell_type": "code",
   "execution_count": 8,
   "id": "e96ae849",
   "metadata": {
    "id": "e96ae849",
    "scrolled": true
   },
   "outputs": [],
   "source": [
    "# !pip install audb --user"
   ]
  },
  {
   "cell_type": "code",
   "execution_count": 9,
   "id": "edec2a3a",
   "metadata": {
    "id": "edec2a3a"
   },
   "outputs": [],
   "source": [
    "# !pip install opensmile --user"
   ]
  },
  {
   "cell_type": "code",
   "execution_count": 10,
   "id": "464cbd4d",
   "metadata": {
    "id": "464cbd4d",
    "scrolled": true
   },
   "outputs": [],
   "source": [
    "\n",
    "db = audb.load(\n",
    "    'emodb',\n",
    "    version='1.1.1',\n",
    "    format='wav',\n",
    "    mixdown=True,\n",
    "    sampling_rate=16000,\n",
    "    media='wav/03a01.*',  # load subset\n",
    "    full_path=False,\n",
    "    verbose=False,\n",
    ")\n",
    "# Process signal\n",
    "# Read first ten seconds of a file into memory.\n",
    "\n",
    "file = os.path.join(db.root, db.files[0])\n",
    "signal, sampling_rate = audiofile.read(\n",
    "    file,\n",
    "    duration=10,\n",
    "    always_2d=True,\n",
    ")\n",
    "# We set up a feature extractor for functionals of a pre-defined feature set.\n",
    "\n",
    "smile = opensmile.Smile(\n",
    "    feature_set=opensmile.FeatureSet.eGeMAPSv02,\n",
    "    feature_level=opensmile.FeatureLevel.Functionals,\n",
    ")\n",
    "# smile.feature_names"
   ]
  },
  {
   "cell_type": "code",
   "execution_count": 11,
   "id": "8a6069f8",
   "metadata": {
    "id": "8a6069f8"
   },
   "outputs": [],
   "source": [
    "sample_rate,wav_data = wavfile.read(test_path + \"/\"[0] + test_files[0])"
   ]
  },
  {
   "cell_type": "code",
   "execution_count": 12,
   "id": "0e2dc977",
   "metadata": {
    "id": "0e2dc977",
    "scrolled": false
   },
   "outputs": [
    {
     "data": {
      "text/plain": [
       "16000"
      ]
     },
     "execution_count": 12,
     "metadata": {},
     "output_type": "execute_result"
    }
   ],
   "source": [
    "sample_rate"
   ]
  },
  {
   "cell_type": "code",
   "execution_count": 13,
   "id": "9760284f",
   "metadata": {
    "id": "9760284f",
    "scrolled": true
   },
   "outputs": [],
   "source": [
    "import tensorflow.audio\n",
    "factor = 16*2\n",
    "batch_size = 32*factor\n",
    "\n",
    "yamnet_model_handle = 'https://tfhub.dev/google/yamnet/1'\n",
    "yamnet_model = hub.load(yamnet_model_handle)"
   ]
  },
  {
   "cell_type": "code",
   "execution_count": 14,
   "id": "6a67de2f",
   "metadata": {
    "id": "6a67de2f"
   },
   "outputs": [],
   "source": [
    "def dataloader(path, labels_path,desired_sample_rate=16000):\n",
    "    @tf.function\n",
    "    def lecture_intern(filename, filepath):\n",
    "        \"\"\" Load a WAV file, convert it to a float tensor, resample to 16 kHz single-channel audio. \"\"\"\n",
    "        file_contents = tf.io.read_file(filepath + \"/\"[0] +filename)\n",
    "        wav, sample_rate = tf.audio.decode_wav(\n",
    "                      file_contents,\n",
    "              desired_channels=1)\n",
    "        wav = tf.squeeze(wav, axis=-1)\n",
    "        sample_rate = tf.cast(sample_rate, dtype=tf.int64)\n",
    "        wav = tfio.audio.resample(wav, rate_in=sample_rate, rate_out=desired_sample_rate)\n",
    "        return wav/tf.int16.max\n",
    "    \n",
    "\n",
    "    # def lecture_intern(filename, filepath):\n",
    "    #     sample_rate, wav_data = wavfile.read(filepath + \"/\"[0] + filename, 'rb')\n",
    "    #     # print(\"SAMPLE RATE : \", sample_rate)\n",
    "    #     # print(\"WAV_DATA : \", wav_data)\n",
    "    #     wav_data = ensure_sample_rate(sample_rate, wav_data,desired_sample_rate)\n",
    "    #     return wav_data/tf.int16.max\n",
    "\n",
    "    # def lecture_intern(filename, filepath):\n",
    "    #     wav, sample_rate = librosa.load(filepath+\"/\"[0]+filename,sr = desired_sample_rate)\n",
    "    #     return wav/tf.int16.max\n",
    "\n",
    "    @tf.function\n",
    "    def extract_embedding(wav_data):\n",
    "      ''' run YAMNet to extract embedding from the wav data '''\n",
    "      wav_data = tf.convert_to_tensor(wav_data)\n",
    "      scores, embeddings, spectrogram = yamnet_model(wav_data)\n",
    "#       num_embeddings = tf.shape(embeddings)[0]\n",
    "      return tf.reshape(embeddings,[1,2048])\n",
    "\n",
    "\n",
    "    def smile_intern(file):\n",
    "        return smile(file, desired_sample_rate).reshape((1,88))\n",
    "\n",
    "#     def ensure_sample_rate(original_sample_rate, waveform,\n",
    "#                            desired_sample_rate=desired_sample_rate):\n",
    "#           #Resample waveform if required.\n",
    "#         if original_sample_rate != desired_sample_rate:\n",
    "#             desired_length = int(round(float(len(waveform)) /original_sample_rate * desired_sample_rate))\n",
    "#             waveform = scipy.signal.resample(waveform, desired_length)\n",
    "#         return waveform\n",
    "      \n",
    "    def configure_for_performance(ds):\n",
    "        ds = ds.shuffle(buffer_size=1024)\n",
    "        ds = ds.batch(batch_size=batch_size)\n",
    "        ds = ds.repeat()\n",
    "        ds = ds.prefetch(buffer_size=tf.data.experimental.AUTOTUNE)\n",
    "        return ds\n",
    "    \n",
    "    \n",
    "    # test_path = test_path\n",
    "    # valid_path = valid_path\n",
    "    # train_path = train_path\n",
    "    \n",
    "    df_labels = pd.read_csv(labels_path)[[\"clip_name\",\"label_full_vocab\", \"confidence\", \"clip_split_subset\"]].head(100)\n",
    "    # print(df_labels)\n",
    "    Y = df_labels[\"label_full_vocab\"]\n",
    "    oe = OrdinalEncoder()\n",
    "    target = oe.fit_transform(Y.values.reshape(-1, 1)).ravel()\n",
    "    labels = tf.keras.utils.to_categorical(target, num_classes=13)\n",
    "    \n",
    "    y_test_ds = tf.data.Dataset.from_tensor_slices(labels[df_labels[\"clip_split_subset\"] == \"test\"])\n",
    "    y_valid_ds = tf.data.Dataset.from_tensor_slices(labels[df_labels[\"clip_split_subset\"] == \"validation\"])\n",
    "    y_train_ds = tf.data.Dataset.from_tensor_slices(labels[df_labels[\"clip_split_subset\"] == \"train\"])\n",
    "    \n",
    "    filenames_test = list(df_labels[df_labels[\"clip_split_subset\"] == \"test\"][\"clip_name\"])\n",
    "    filenames_valid = list(df_labels[df_labels[\"clip_split_subset\"] == \"validation\"][\"clip_name\"])\n",
    "    filenames_train = list(df_labels[df_labels[\"clip_split_subset\"] == \"train\"][\"clip_name\"])\n",
    "    \n",
    "    def lecture_intern_test(file):\n",
    "        return lecture_intern(file,test_path)\n",
    "    \n",
    "    def lecture_intern_valid(file):\n",
    "        return lecture_intern(file,valid_path)\n",
    "    \n",
    "    def lecture_intern_train(file):\n",
    "        return lecture_intern(file,train_path)\n",
    "\n",
    "    #.map(reformulate, num_parallel_calls=tf.data.experimental.AUTOTUNE)\n",
    "    # a = time.time()\n",
    "    # print(\"test_map\")\n",
    "    # x_test_map = list(map(lecture_intern_test,filenames_test))\n",
    "    # b = time.time()\n",
    "    # print(\"Done in :\",b-a, \"s\")\n",
    "    # print(\"test_smile_map\")\n",
    "    # x_test_smile_map = list(map(smile_intern, x_test_map))\n",
    "    # a = time.time()\n",
    "    # print(\"Done in :\",a-b, \"s\")\n",
    "    # print(\"test_ds\")\n",
    "    # x_test_ds = tf.data.Dataset.from_tensor_slices(x_test_map).map(extract_embedding, num_parallel_calls=tf.data.experimental.AUTOTUNE)\n",
    "    # b = time.time()\n",
    "    # print(\"Done in :\",b-a, \"s\")\n",
    "    # print(\"test_smile_ds\")\n",
    "    # x_test_smile_ds = tf.data.Dataset.from_tensor_slices(x_test_smile_map)\n",
    "    # a = time.time()\n",
    "    # print(\"Done in :\",a-b, \"s\":)\n",
    "\n",
    "\n",
    "    x_test_map = list(map(lecture_intern_test,filenames_test))\n",
    "    x_test_smile_map = list(map(smile_intern, x_test_map))\n",
    "    x_test_ds = tf.data.Dataset.from_tensor_slices(x_test_map).map(extract_embedding, num_parallel_calls=tf.data.experimental.AUTOTUNE)\n",
    "    x_test_smile_ds = tf.data.Dataset.from_tensor_slices(x_test_smile_map)\n",
    "\n",
    "    x_valid_map = list(map(lecture_intern_valid,filenames_valid))\n",
    "    x_valid_smile_map = list(map(smile_intern, x_valid_map))\n",
    "    x_valid_ds = tf.data.Dataset.from_tensor_slices(x_valid_map).map(extract_embedding, num_parallel_calls=tf.data.experimental.AUTOTUNE)\n",
    "    x_valid_smile_ds = tf.data.Dataset.from_tensor_slices(x_valid_smile_map)\n",
    "    \n",
    "    x_train_map = list(map(lecture_intern_train,filenames_train))\n",
    "    x_train_smile_map = list(map(smile_intern, x_train_map))\n",
    "    x_train_ds = tf.data.Dataset.from_tensor_slices(x_train_map).map(extract_embedding, num_parallel_calls=tf.data.experimental.AUTOTUNE)\n",
    "    x_train_smile_ds = tf.data.Dataset.from_tensor_slices(x_train_smile_map)\n",
    "\n",
    "    ds1_test = tf.data.Dataset.zip((x_test_ds, x_test_smile_ds))\n",
    "    ds_test = tf.data.Dataset.zip((ds1_test, y_test_ds))\n",
    "    ds_test = configure_for_performance(ds_test)\n",
    "\n",
    "    # ds_test = tf.data.Dataset.zip((x_test_ds, y_test_ds))\n",
    "    # ds_test = configure_for_performance(ds_test)\n",
    "    \n",
    "    ds1_valid = tf.data.Dataset.zip((x_valid_ds, x_valid_smile_ds))\n",
    "    ds_valid = tf.data.Dataset.zip((ds1_valid, y_valid_ds))\n",
    "    ds_valid = configure_for_performance(ds_valid)\n",
    "    \n",
    "    ds1_train = tf.data.Dataset.zip((x_train_ds, x_train_smile_ds))\n",
    "    ds_train = tf.data.Dataset.zip((ds1_train, y_train_ds))\n",
    "    ds_train = configure_for_performance(ds_train)\n",
    "    \n",
    "    # return  ds_test\n",
    "    \n",
    "    return ds_train, ds_valid, ds_test"
   ]
  },
  {
   "cell_type": "code",
   "execution_count": 15,
   "id": "11b3cecf",
   "metadata": {
    "id": "11b3cecf",
    "scrolled": true
   },
   "outputs": [
    {
     "name": "stdout",
     "output_type": "stream",
     "text": [
      "WARNING:tensorflow:Using a while_loop for converting IO>AudioResample\n"
     ]
    },
    {
     "name": "stderr",
     "output_type": "stream",
     "text": [
      "WARNING:tensorflow:Using a while_loop for converting IO>AudioResample\n"
     ]
    },
    {
     "name": "stdout",
     "output_type": "stream",
     "text": [
      "WARNING:tensorflow:Using a while_loop for converting IO>AudioResample\n"
     ]
    },
    {
     "name": "stderr",
     "output_type": "stream",
     "text": [
      "WARNING:tensorflow:Using a while_loop for converting IO>AudioResample\n"
     ]
    },
    {
     "name": "stdout",
     "output_type": "stream",
     "text": [
      "WARNING:tensorflow:Using a while_loop for converting IO>AudioResample\n"
     ]
    },
    {
     "name": "stderr",
     "output_type": "stream",
     "text": [
      "WARNING:tensorflow:Using a while_loop for converting IO>AudioResample\n"
     ]
    },
    {
     "name": "stdout",
     "output_type": "stream",
     "text": [
      "WARNING:tensorflow:Using a while_loop for converting IO>AudioResample\n"
     ]
    },
    {
     "name": "stderr",
     "output_type": "stream",
     "text": [
      "WARNING:tensorflow:Using a while_loop for converting IO>AudioResample\n"
     ]
    },
    {
     "name": "stdout",
     "output_type": "stream",
     "text": [
      "WARNING:tensorflow:Using a while_loop for converting IO>AudioResample\n"
     ]
    },
    {
     "name": "stderr",
     "output_type": "stream",
     "text": [
      "WARNING:tensorflow:Using a while_loop for converting IO>AudioResample\n"
     ]
    },
    {
     "name": "stdout",
     "output_type": "stream",
     "text": [
      "WARNING:tensorflow:5 out of the last 5 calls to <function dataloader.<locals>.lecture_intern at 0x0000026FA420C5E0> triggered tf.function retracing. Tracing is expensive and the excessive number of tracings could be due to (1) creating @tf.function repeatedly in a loop, (2) passing tensors with different shapes, (3) passing Python objects instead of tensors. For (1), please define your @tf.function outside of the loop. For (2), @tf.function has experimental_relax_shapes=True option that relaxes argument shapes that can avoid unnecessary retracing. For (3), please refer to https://www.tensorflow.org/guide/function#controlling_retracing and https://www.tensorflow.org/api_docs/python/tf/function for  more details.\n"
     ]
    },
    {
     "name": "stderr",
     "output_type": "stream",
     "text": [
      "WARNING:tensorflow:5 out of the last 5 calls to <function dataloader.<locals>.lecture_intern at 0x0000026FA420C5E0> triggered tf.function retracing. Tracing is expensive and the excessive number of tracings could be due to (1) creating @tf.function repeatedly in a loop, (2) passing tensors with different shapes, (3) passing Python objects instead of tensors. For (1), please define your @tf.function outside of the loop. For (2), @tf.function has experimental_relax_shapes=True option that relaxes argument shapes that can avoid unnecessary retracing. For (3), please refer to https://www.tensorflow.org/guide/function#controlling_retracing and https://www.tensorflow.org/api_docs/python/tf/function for  more details.\n"
     ]
    },
    {
     "name": "stdout",
     "output_type": "stream",
     "text": [
      "WARNING:tensorflow:Using a while_loop for converting IO>AudioResample\n"
     ]
    },
    {
     "name": "stderr",
     "output_type": "stream",
     "text": [
      "WARNING:tensorflow:Using a while_loop for converting IO>AudioResample\n"
     ]
    },
    {
     "name": "stdout",
     "output_type": "stream",
     "text": [
      "WARNING:tensorflow:6 out of the last 6 calls to <function dataloader.<locals>.lecture_intern at 0x0000026FA420C5E0> triggered tf.function retracing. Tracing is expensive and the excessive number of tracings could be due to (1) creating @tf.function repeatedly in a loop, (2) passing tensors with different shapes, (3) passing Python objects instead of tensors. For (1), please define your @tf.function outside of the loop. For (2), @tf.function has experimental_relax_shapes=True option that relaxes argument shapes that can avoid unnecessary retracing. For (3), please refer to https://www.tensorflow.org/guide/function#controlling_retracing and https://www.tensorflow.org/api_docs/python/tf/function for  more details.\n"
     ]
    },
    {
     "name": "stderr",
     "output_type": "stream",
     "text": [
      "WARNING:tensorflow:6 out of the last 6 calls to <function dataloader.<locals>.lecture_intern at 0x0000026FA420C5E0> triggered tf.function retracing. Tracing is expensive and the excessive number of tracings could be due to (1) creating @tf.function repeatedly in a loop, (2) passing tensors with different shapes, (3) passing Python objects instead of tensors. For (1), please define your @tf.function outside of the loop. For (2), @tf.function has experimental_relax_shapes=True option that relaxes argument shapes that can avoid unnecessary retracing. For (3), please refer to https://www.tensorflow.org/guide/function#controlling_retracing and https://www.tensorflow.org/api_docs/python/tf/function for  more details.\n"
     ]
    },
    {
     "name": "stdout",
     "output_type": "stream",
     "text": [
      "WARNING:tensorflow:Using a while_loop for converting IO>AudioResample\n"
     ]
    },
    {
     "name": "stderr",
     "output_type": "stream",
     "text": [
      "WARNING:tensorflow:Using a while_loop for converting IO>AudioResample\n"
     ]
    },
    {
     "name": "stdout",
     "output_type": "stream",
     "text": [
      "WARNING:tensorflow:Using a while_loop for converting IO>AudioResample\n"
     ]
    },
    {
     "name": "stderr",
     "output_type": "stream",
     "text": [
      "WARNING:tensorflow:Using a while_loop for converting IO>AudioResample\n"
     ]
    },
    {
     "name": "stdout",
     "output_type": "stream",
     "text": [
      "WARNING:tensorflow:Using a while_loop for converting IO>AudioResample\n"
     ]
    },
    {
     "name": "stderr",
     "output_type": "stream",
     "text": [
      "WARNING:tensorflow:Using a while_loop for converting IO>AudioResample\n"
     ]
    },
    {
     "name": "stdout",
     "output_type": "stream",
     "text": [
      "WARNING:tensorflow:Using a while_loop for converting IO>AudioResample\n"
     ]
    },
    {
     "name": "stderr",
     "output_type": "stream",
     "text": [
      "WARNING:tensorflow:Using a while_loop for converting IO>AudioResample\n"
     ]
    },
    {
     "name": "stdout",
     "output_type": "stream",
     "text": [
      "WARNING:tensorflow:Using a while_loop for converting IO>AudioResample\n"
     ]
    },
    {
     "name": "stderr",
     "output_type": "stream",
     "text": [
      "WARNING:tensorflow:Using a while_loop for converting IO>AudioResample\n"
     ]
    },
    {
     "name": "stdout",
     "output_type": "stream",
     "text": [
      "WARNING:tensorflow:Using a while_loop for converting IO>AudioResample\n"
     ]
    },
    {
     "name": "stderr",
     "output_type": "stream",
     "text": [
      "WARNING:tensorflow:Using a while_loop for converting IO>AudioResample\n"
     ]
    },
    {
     "name": "stdout",
     "output_type": "stream",
     "text": [
      "WARNING:tensorflow:Using a while_loop for converting IO>AudioResample\n"
     ]
    },
    {
     "name": "stderr",
     "output_type": "stream",
     "text": [
      "WARNING:tensorflow:Using a while_loop for converting IO>AudioResample\n"
     ]
    },
    {
     "name": "stdout",
     "output_type": "stream",
     "text": [
      "WARNING:tensorflow:Using a while_loop for converting IO>AudioResample\n"
     ]
    },
    {
     "name": "stderr",
     "output_type": "stream",
     "text": [
      "WARNING:tensorflow:Using a while_loop for converting IO>AudioResample\n"
     ]
    },
    {
     "name": "stdout",
     "output_type": "stream",
     "text": [
      "WARNING:tensorflow:Using a while_loop for converting IO>AudioResample\n"
     ]
    },
    {
     "name": "stderr",
     "output_type": "stream",
     "text": [
      "WARNING:tensorflow:Using a while_loop for converting IO>AudioResample\n"
     ]
    },
    {
     "name": "stdout",
     "output_type": "stream",
     "text": [
      "WARNING:tensorflow:Using a while_loop for converting IO>AudioResample\n"
     ]
    },
    {
     "name": "stderr",
     "output_type": "stream",
     "text": [
      "WARNING:tensorflow:Using a while_loop for converting IO>AudioResample\n"
     ]
    },
    {
     "name": "stdout",
     "output_type": "stream",
     "text": [
      "WARNING:tensorflow:Using a while_loop for converting IO>AudioResample\n"
     ]
    },
    {
     "name": "stderr",
     "output_type": "stream",
     "text": [
      "WARNING:tensorflow:Using a while_loop for converting IO>AudioResample\n"
     ]
    },
    {
     "name": "stdout",
     "output_type": "stream",
     "text": [
      "WARNING:tensorflow:Using a while_loop for converting IO>AudioResample\n"
     ]
    },
    {
     "name": "stderr",
     "output_type": "stream",
     "text": [
      "WARNING:tensorflow:Using a while_loop for converting IO>AudioResample\n"
     ]
    },
    {
     "name": "stdout",
     "output_type": "stream",
     "text": [
      "WARNING:tensorflow:Using a while_loop for converting IO>AudioResample\n"
     ]
    },
    {
     "name": "stderr",
     "output_type": "stream",
     "text": [
      "WARNING:tensorflow:Using a while_loop for converting IO>AudioResample\n"
     ]
    },
    {
     "name": "stdout",
     "output_type": "stream",
     "text": [
      "WARNING:tensorflow:Using a while_loop for converting IO>AudioResample\n"
     ]
    },
    {
     "name": "stderr",
     "output_type": "stream",
     "text": [
      "WARNING:tensorflow:Using a while_loop for converting IO>AudioResample\n"
     ]
    },
    {
     "name": "stdout",
     "output_type": "stream",
     "text": [
      "WARNING:tensorflow:Using a while_loop for converting IO>AudioResample\n"
     ]
    },
    {
     "name": "stderr",
     "output_type": "stream",
     "text": [
      "WARNING:tensorflow:Using a while_loop for converting IO>AudioResample\n"
     ]
    },
    {
     "name": "stdout",
     "output_type": "stream",
     "text": [
      "WARNING:tensorflow:Using a while_loop for converting IO>AudioResample\n"
     ]
    },
    {
     "name": "stderr",
     "output_type": "stream",
     "text": [
      "WARNING:tensorflow:Using a while_loop for converting IO>AudioResample\n"
     ]
    },
    {
     "name": "stdout",
     "output_type": "stream",
     "text": [
      "WARNING:tensorflow:Using a while_loop for converting IO>AudioResample\n"
     ]
    },
    {
     "name": "stderr",
     "output_type": "stream",
     "text": [
      "WARNING:tensorflow:Using a while_loop for converting IO>AudioResample\n"
     ]
    },
    {
     "name": "stdout",
     "output_type": "stream",
     "text": [
      "WARNING:tensorflow:Using a while_loop for converting IO>AudioResample\n"
     ]
    },
    {
     "name": "stderr",
     "output_type": "stream",
     "text": [
      "WARNING:tensorflow:Using a while_loop for converting IO>AudioResample\n"
     ]
    },
    {
     "name": "stdout",
     "output_type": "stream",
     "text": [
      "WARNING:tensorflow:Using a while_loop for converting IO>AudioResample\n"
     ]
    },
    {
     "name": "stderr",
     "output_type": "stream",
     "text": [
      "WARNING:tensorflow:Using a while_loop for converting IO>AudioResample\n"
     ]
    },
    {
     "name": "stdout",
     "output_type": "stream",
     "text": [
      "WARNING:tensorflow:Using a while_loop for converting IO>AudioResample\n"
     ]
    },
    {
     "name": "stderr",
     "output_type": "stream",
     "text": [
      "WARNING:tensorflow:Using a while_loop for converting IO>AudioResample\n"
     ]
    },
    {
     "name": "stdout",
     "output_type": "stream",
     "text": [
      "WARNING:tensorflow:Using a while_loop for converting IO>AudioResample\n"
     ]
    },
    {
     "name": "stderr",
     "output_type": "stream",
     "text": [
      "WARNING:tensorflow:Using a while_loop for converting IO>AudioResample\n"
     ]
    },
    {
     "name": "stdout",
     "output_type": "stream",
     "text": [
      "WARNING:tensorflow:Using a while_loop for converting IO>AudioResample\n"
     ]
    },
    {
     "name": "stderr",
     "output_type": "stream",
     "text": [
      "WARNING:tensorflow:Using a while_loop for converting IO>AudioResample\n"
     ]
    },
    {
     "name": "stdout",
     "output_type": "stream",
     "text": [
      "WARNING:tensorflow:Using a while_loop for converting IO>AudioResample\n"
     ]
    },
    {
     "name": "stderr",
     "output_type": "stream",
     "text": [
      "WARNING:tensorflow:Using a while_loop for converting IO>AudioResample\n"
     ]
    },
    {
     "name": "stdout",
     "output_type": "stream",
     "text": [
      "WARNING:tensorflow:Using a while_loop for converting IO>AudioResample\n"
     ]
    },
    {
     "name": "stderr",
     "output_type": "stream",
     "text": [
      "WARNING:tensorflow:Using a while_loop for converting IO>AudioResample\n"
     ]
    },
    {
     "name": "stdout",
     "output_type": "stream",
     "text": [
      "WARNING:tensorflow:Using a while_loop for converting IO>AudioResample\n"
     ]
    },
    {
     "name": "stderr",
     "output_type": "stream",
     "text": [
      "WARNING:tensorflow:Using a while_loop for converting IO>AudioResample\n"
     ]
    },
    {
     "name": "stdout",
     "output_type": "stream",
     "text": [
      "WARNING:tensorflow:Using a while_loop for converting IO>AudioResample\n"
     ]
    },
    {
     "name": "stderr",
     "output_type": "stream",
     "text": [
      "WARNING:tensorflow:Using a while_loop for converting IO>AudioResample\n"
     ]
    },
    {
     "name": "stdout",
     "output_type": "stream",
     "text": [
      "WARNING:tensorflow:Using a while_loop for converting IO>AudioResample\n"
     ]
    },
    {
     "name": "stderr",
     "output_type": "stream",
     "text": [
      "WARNING:tensorflow:Using a while_loop for converting IO>AudioResample\n"
     ]
    },
    {
     "name": "stdout",
     "output_type": "stream",
     "text": [
      "WARNING:tensorflow:Using a while_loop for converting IO>AudioResample\n"
     ]
    },
    {
     "name": "stderr",
     "output_type": "stream",
     "text": [
      "WARNING:tensorflow:Using a while_loop for converting IO>AudioResample\n"
     ]
    },
    {
     "name": "stdout",
     "output_type": "stream",
     "text": [
      "WARNING:tensorflow:Using a while_loop for converting IO>AudioResample\n"
     ]
    },
    {
     "name": "stderr",
     "output_type": "stream",
     "text": [
      "WARNING:tensorflow:Using a while_loop for converting IO>AudioResample\n"
     ]
    },
    {
     "name": "stdout",
     "output_type": "stream",
     "text": [
      "WARNING:tensorflow:Using a while_loop for converting IO>AudioResample\n"
     ]
    },
    {
     "name": "stderr",
     "output_type": "stream",
     "text": [
      "WARNING:tensorflow:Using a while_loop for converting IO>AudioResample\n"
     ]
    },
    {
     "name": "stdout",
     "output_type": "stream",
     "text": [
      "WARNING:tensorflow:Using a while_loop for converting IO>AudioResample\n"
     ]
    },
    {
     "name": "stderr",
     "output_type": "stream",
     "text": [
      "WARNING:tensorflow:Using a while_loop for converting IO>AudioResample\n"
     ]
    },
    {
     "name": "stdout",
     "output_type": "stream",
     "text": [
      "WARNING:tensorflow:Using a while_loop for converting IO>AudioResample\n"
     ]
    },
    {
     "name": "stderr",
     "output_type": "stream",
     "text": [
      "WARNING:tensorflow:Using a while_loop for converting IO>AudioResample\n"
     ]
    },
    {
     "name": "stdout",
     "output_type": "stream",
     "text": [
      "WARNING:tensorflow:Using a while_loop for converting IO>AudioResample\n"
     ]
    },
    {
     "name": "stderr",
     "output_type": "stream",
     "text": [
      "WARNING:tensorflow:Using a while_loop for converting IO>AudioResample\n"
     ]
    },
    {
     "name": "stdout",
     "output_type": "stream",
     "text": [
      "WARNING:tensorflow:Using a while_loop for converting IO>AudioResample\n"
     ]
    },
    {
     "name": "stderr",
     "output_type": "stream",
     "text": [
      "WARNING:tensorflow:Using a while_loop for converting IO>AudioResample\n"
     ]
    },
    {
     "name": "stdout",
     "output_type": "stream",
     "text": [
      "WARNING:tensorflow:Using a while_loop for converting IO>AudioResample\n"
     ]
    },
    {
     "name": "stderr",
     "output_type": "stream",
     "text": [
      "WARNING:tensorflow:Using a while_loop for converting IO>AudioResample\n"
     ]
    },
    {
     "name": "stdout",
     "output_type": "stream",
     "text": [
      "WARNING:tensorflow:Using a while_loop for converting IO>AudioResample\n"
     ]
    },
    {
     "name": "stderr",
     "output_type": "stream",
     "text": [
      "WARNING:tensorflow:Using a while_loop for converting IO>AudioResample\n"
     ]
    },
    {
     "name": "stdout",
     "output_type": "stream",
     "text": [
      "WARNING:tensorflow:Using a while_loop for converting IO>AudioResample\n"
     ]
    },
    {
     "name": "stderr",
     "output_type": "stream",
     "text": [
      "WARNING:tensorflow:Using a while_loop for converting IO>AudioResample\n"
     ]
    },
    {
     "name": "stdout",
     "output_type": "stream",
     "text": [
      "WARNING:tensorflow:Using a while_loop for converting IO>AudioResample\n"
     ]
    },
    {
     "name": "stderr",
     "output_type": "stream",
     "text": [
      "WARNING:tensorflow:Using a while_loop for converting IO>AudioResample\n"
     ]
    },
    {
     "name": "stdout",
     "output_type": "stream",
     "text": [
      "WARNING:tensorflow:Using a while_loop for converting IO>AudioResample\n"
     ]
    },
    {
     "name": "stderr",
     "output_type": "stream",
     "text": [
      "WARNING:tensorflow:Using a while_loop for converting IO>AudioResample\n"
     ]
    },
    {
     "name": "stdout",
     "output_type": "stream",
     "text": [
      "WARNING:tensorflow:Using a while_loop for converting IO>AudioResample\n"
     ]
    },
    {
     "name": "stderr",
     "output_type": "stream",
     "text": [
      "WARNING:tensorflow:Using a while_loop for converting IO>AudioResample\n"
     ]
    },
    {
     "name": "stdout",
     "output_type": "stream",
     "text": [
      "WARNING:tensorflow:Using a while_loop for converting IO>AudioResample\n"
     ]
    },
    {
     "name": "stderr",
     "output_type": "stream",
     "text": [
      "WARNING:tensorflow:Using a while_loop for converting IO>AudioResample\n"
     ]
    },
    {
     "name": "stdout",
     "output_type": "stream",
     "text": [
      "WARNING:tensorflow:Using a while_loop for converting IO>AudioResample\n"
     ]
    },
    {
     "name": "stderr",
     "output_type": "stream",
     "text": [
      "WARNING:tensorflow:Using a while_loop for converting IO>AudioResample\n"
     ]
    },
    {
     "name": "stdout",
     "output_type": "stream",
     "text": [
      "WARNING:tensorflow:Using a while_loop for converting IO>AudioResample\n"
     ]
    },
    {
     "name": "stderr",
     "output_type": "stream",
     "text": [
      "WARNING:tensorflow:Using a while_loop for converting IO>AudioResample\n"
     ]
    },
    {
     "name": "stdout",
     "output_type": "stream",
     "text": [
      "WARNING:tensorflow:Using a while_loop for converting IO>AudioResample\n"
     ]
    },
    {
     "name": "stderr",
     "output_type": "stream",
     "text": [
      "WARNING:tensorflow:Using a while_loop for converting IO>AudioResample\n"
     ]
    },
    {
     "name": "stdout",
     "output_type": "stream",
     "text": [
      "WARNING:tensorflow:Using a while_loop for converting IO>AudioResample\n"
     ]
    },
    {
     "name": "stderr",
     "output_type": "stream",
     "text": [
      "WARNING:tensorflow:Using a while_loop for converting IO>AudioResample\n"
     ]
    },
    {
     "name": "stdout",
     "output_type": "stream",
     "text": [
      "WARNING:tensorflow:Using a while_loop for converting IO>AudioResample\n"
     ]
    },
    {
     "name": "stderr",
     "output_type": "stream",
     "text": [
      "WARNING:tensorflow:Using a while_loop for converting IO>AudioResample\n"
     ]
    },
    {
     "name": "stdout",
     "output_type": "stream",
     "text": [
      "WARNING:tensorflow:Using a while_loop for converting IO>AudioResample\n"
     ]
    },
    {
     "name": "stderr",
     "output_type": "stream",
     "text": [
      "WARNING:tensorflow:Using a while_loop for converting IO>AudioResample\n"
     ]
    },
    {
     "name": "stdout",
     "output_type": "stream",
     "text": [
      "WARNING:tensorflow:Using a while_loop for converting IO>AudioResample\n"
     ]
    },
    {
     "name": "stderr",
     "output_type": "stream",
     "text": [
      "WARNING:tensorflow:Using a while_loop for converting IO>AudioResample\n"
     ]
    },
    {
     "name": "stdout",
     "output_type": "stream",
     "text": [
      "WARNING:tensorflow:Using a while_loop for converting IO>AudioResample\n"
     ]
    },
    {
     "name": "stderr",
     "output_type": "stream",
     "text": [
      "WARNING:tensorflow:Using a while_loop for converting IO>AudioResample\n"
     ]
    },
    {
     "name": "stdout",
     "output_type": "stream",
     "text": [
      "WARNING:tensorflow:Using a while_loop for converting IO>AudioResample\n"
     ]
    },
    {
     "name": "stderr",
     "output_type": "stream",
     "text": [
      "WARNING:tensorflow:Using a while_loop for converting IO>AudioResample\n"
     ]
    },
    {
     "name": "stdout",
     "output_type": "stream",
     "text": [
      "WARNING:tensorflow:Using a while_loop for converting IO>AudioResample\n"
     ]
    },
    {
     "name": "stderr",
     "output_type": "stream",
     "text": [
      "WARNING:tensorflow:Using a while_loop for converting IO>AudioResample\n"
     ]
    },
    {
     "name": "stdout",
     "output_type": "stream",
     "text": [
      "WARNING:tensorflow:Using a while_loop for converting IO>AudioResample\n"
     ]
    },
    {
     "name": "stderr",
     "output_type": "stream",
     "text": [
      "WARNING:tensorflow:Using a while_loop for converting IO>AudioResample\n"
     ]
    },
    {
     "name": "stdout",
     "output_type": "stream",
     "text": [
      "WARNING:tensorflow:Using a while_loop for converting IO>AudioResample\n"
     ]
    },
    {
     "name": "stderr",
     "output_type": "stream",
     "text": [
      "WARNING:tensorflow:Using a while_loop for converting IO>AudioResample\n"
     ]
    },
    {
     "name": "stdout",
     "output_type": "stream",
     "text": [
      "WARNING:tensorflow:Using a while_loop for converting IO>AudioResample\n"
     ]
    },
    {
     "name": "stderr",
     "output_type": "stream",
     "text": [
      "WARNING:tensorflow:Using a while_loop for converting IO>AudioResample\n"
     ]
    },
    {
     "name": "stdout",
     "output_type": "stream",
     "text": [
      "WARNING:tensorflow:Using a while_loop for converting IO>AudioResample\n"
     ]
    },
    {
     "name": "stderr",
     "output_type": "stream",
     "text": [
      "WARNING:tensorflow:Using a while_loop for converting IO>AudioResample\n"
     ]
    },
    {
     "name": "stdout",
     "output_type": "stream",
     "text": [
      "WARNING:tensorflow:Using a while_loop for converting IO>AudioResample\n"
     ]
    },
    {
     "name": "stderr",
     "output_type": "stream",
     "text": [
      "WARNING:tensorflow:Using a while_loop for converting IO>AudioResample\n"
     ]
    },
    {
     "name": "stdout",
     "output_type": "stream",
     "text": [
      "WARNING:tensorflow:Using a while_loop for converting IO>AudioResample\n"
     ]
    },
    {
     "name": "stderr",
     "output_type": "stream",
     "text": [
      "WARNING:tensorflow:Using a while_loop for converting IO>AudioResample\n"
     ]
    },
    {
     "name": "stdout",
     "output_type": "stream",
     "text": [
      "WARNING:tensorflow:Using a while_loop for converting IO>AudioResample\n"
     ]
    },
    {
     "name": "stderr",
     "output_type": "stream",
     "text": [
      "WARNING:tensorflow:Using a while_loop for converting IO>AudioResample\n"
     ]
    },
    {
     "name": "stdout",
     "output_type": "stream",
     "text": [
      "WARNING:tensorflow:Using a while_loop for converting IO>AudioResample\n"
     ]
    },
    {
     "name": "stderr",
     "output_type": "stream",
     "text": [
      "WARNING:tensorflow:Using a while_loop for converting IO>AudioResample\n"
     ]
    },
    {
     "name": "stdout",
     "output_type": "stream",
     "text": [
      "WARNING:tensorflow:Using a while_loop for converting IO>AudioResample\n"
     ]
    },
    {
     "name": "stderr",
     "output_type": "stream",
     "text": [
      "WARNING:tensorflow:Using a while_loop for converting IO>AudioResample\n"
     ]
    },
    {
     "name": "stdout",
     "output_type": "stream",
     "text": [
      "WARNING:tensorflow:Using a while_loop for converting IO>AudioResample\n"
     ]
    },
    {
     "name": "stderr",
     "output_type": "stream",
     "text": [
      "WARNING:tensorflow:Using a while_loop for converting IO>AudioResample\n"
     ]
    },
    {
     "name": "stdout",
     "output_type": "stream",
     "text": [
      "WARNING:tensorflow:Using a while_loop for converting IO>AudioResample\n"
     ]
    },
    {
     "name": "stderr",
     "output_type": "stream",
     "text": [
      "WARNING:tensorflow:Using a while_loop for converting IO>AudioResample\n"
     ]
    },
    {
     "name": "stdout",
     "output_type": "stream",
     "text": [
      "WARNING:tensorflow:Using a while_loop for converting IO>AudioResample\n"
     ]
    },
    {
     "name": "stderr",
     "output_type": "stream",
     "text": [
      "WARNING:tensorflow:Using a while_loop for converting IO>AudioResample\n"
     ]
    },
    {
     "name": "stdout",
     "output_type": "stream",
     "text": [
      "WARNING:tensorflow:Using a while_loop for converting IO>AudioResample\n"
     ]
    },
    {
     "name": "stderr",
     "output_type": "stream",
     "text": [
      "WARNING:tensorflow:Using a while_loop for converting IO>AudioResample\n"
     ]
    },
    {
     "name": "stdout",
     "output_type": "stream",
     "text": [
      "WARNING:tensorflow:Using a while_loop for converting IO>AudioResample\n"
     ]
    },
    {
     "name": "stderr",
     "output_type": "stream",
     "text": [
      "WARNING:tensorflow:Using a while_loop for converting IO>AudioResample\n"
     ]
    },
    {
     "name": "stdout",
     "output_type": "stream",
     "text": [
      "WARNING:tensorflow:Using a while_loop for converting IO>AudioResample\n"
     ]
    },
    {
     "name": "stderr",
     "output_type": "stream",
     "text": [
      "WARNING:tensorflow:Using a while_loop for converting IO>AudioResample\n"
     ]
    },
    {
     "name": "stdout",
     "output_type": "stream",
     "text": [
      "WARNING:tensorflow:Using a while_loop for converting IO>AudioResample\n"
     ]
    },
    {
     "name": "stderr",
     "output_type": "stream",
     "text": [
      "WARNING:tensorflow:Using a while_loop for converting IO>AudioResample\n"
     ]
    },
    {
     "name": "stdout",
     "output_type": "stream",
     "text": [
      "WARNING:tensorflow:Using a while_loop for converting IO>AudioResample\n"
     ]
    },
    {
     "name": "stderr",
     "output_type": "stream",
     "text": [
      "WARNING:tensorflow:Using a while_loop for converting IO>AudioResample\n"
     ]
    },
    {
     "name": "stdout",
     "output_type": "stream",
     "text": [
      "WARNING:tensorflow:Using a while_loop for converting IO>AudioResample\n"
     ]
    },
    {
     "name": "stderr",
     "output_type": "stream",
     "text": [
      "WARNING:tensorflow:Using a while_loop for converting IO>AudioResample\n"
     ]
    },
    {
     "name": "stdout",
     "output_type": "stream",
     "text": [
      "WARNING:tensorflow:Using a while_loop for converting IO>AudioResample\n"
     ]
    },
    {
     "name": "stderr",
     "output_type": "stream",
     "text": [
      "WARNING:tensorflow:Using a while_loop for converting IO>AudioResample\n"
     ]
    },
    {
     "name": "stdout",
     "output_type": "stream",
     "text": [
      "WARNING:tensorflow:Using a while_loop for converting IO>AudioResample\n"
     ]
    },
    {
     "name": "stderr",
     "output_type": "stream",
     "text": [
      "WARNING:tensorflow:Using a while_loop for converting IO>AudioResample\n"
     ]
    },
    {
     "name": "stdout",
     "output_type": "stream",
     "text": [
      "WARNING:tensorflow:Using a while_loop for converting IO>AudioResample\n"
     ]
    },
    {
     "name": "stderr",
     "output_type": "stream",
     "text": [
      "WARNING:tensorflow:Using a while_loop for converting IO>AudioResample\n"
     ]
    },
    {
     "name": "stdout",
     "output_type": "stream",
     "text": [
      "WARNING:tensorflow:Using a while_loop for converting IO>AudioResample\n"
     ]
    },
    {
     "name": "stderr",
     "output_type": "stream",
     "text": [
      "WARNING:tensorflow:Using a while_loop for converting IO>AudioResample\n"
     ]
    },
    {
     "name": "stdout",
     "output_type": "stream",
     "text": [
      "WARNING:tensorflow:Using a while_loop for converting IO>AudioResample\n"
     ]
    },
    {
     "name": "stderr",
     "output_type": "stream",
     "text": [
      "WARNING:tensorflow:Using a while_loop for converting IO>AudioResample\n"
     ]
    },
    {
     "name": "stdout",
     "output_type": "stream",
     "text": [
      "WARNING:tensorflow:Using a while_loop for converting IO>AudioResample\n"
     ]
    },
    {
     "name": "stderr",
     "output_type": "stream",
     "text": [
      "WARNING:tensorflow:Using a while_loop for converting IO>AudioResample\n"
     ]
    },
    {
     "name": "stdout",
     "output_type": "stream",
     "text": [
      "WARNING:tensorflow:Using a while_loop for converting IO>AudioResample\n"
     ]
    },
    {
     "name": "stderr",
     "output_type": "stream",
     "text": [
      "WARNING:tensorflow:Using a while_loop for converting IO>AudioResample\n"
     ]
    },
    {
     "name": "stdout",
     "output_type": "stream",
     "text": [
      "WARNING:tensorflow:Using a while_loop for converting IO>AudioResample\n"
     ]
    },
    {
     "name": "stderr",
     "output_type": "stream",
     "text": [
      "WARNING:tensorflow:Using a while_loop for converting IO>AudioResample\n"
     ]
    },
    {
     "name": "stdout",
     "output_type": "stream",
     "text": [
      "WARNING:tensorflow:Using a while_loop for converting IO>AudioResample\n"
     ]
    },
    {
     "name": "stderr",
     "output_type": "stream",
     "text": [
      "WARNING:tensorflow:Using a while_loop for converting IO>AudioResample\n"
     ]
    },
    {
     "name": "stdout",
     "output_type": "stream",
     "text": [
      "WARNING:tensorflow:Using a while_loop for converting IO>AudioResample\n"
     ]
    },
    {
     "name": "stderr",
     "output_type": "stream",
     "text": [
      "WARNING:tensorflow:Using a while_loop for converting IO>AudioResample\n"
     ]
    },
    {
     "name": "stdout",
     "output_type": "stream",
     "text": [
      "WARNING:tensorflow:Using a while_loop for converting IO>AudioResample\n"
     ]
    },
    {
     "name": "stderr",
     "output_type": "stream",
     "text": [
      "WARNING:tensorflow:Using a while_loop for converting IO>AudioResample\n"
     ]
    },
    {
     "name": "stdout",
     "output_type": "stream",
     "text": [
      "WARNING:tensorflow:Using a while_loop for converting IO>AudioResample\n"
     ]
    },
    {
     "name": "stderr",
     "output_type": "stream",
     "text": [
      "WARNING:tensorflow:Using a while_loop for converting IO>AudioResample\n"
     ]
    }
   ],
   "source": [
    "ds_train, ds_valid, ds_test = dataloader(path, labels_path)\n",
    "# ds_test"
   ]
  },
  {
   "cell_type": "code",
   "execution_count": 16,
   "id": "RDzEbUovPE0O",
   "metadata": {
    "id": "RDzEbUovPE0O"
   },
   "outputs": [],
   "source": [
    "# def ensure_sample_rate(original_sample_rate, waveform,\n",
    "#                        desired_sample_rate=16000):\n",
    "#     #Resample waveform if required.\n",
    "#     if original_sample_rate != desired_sample_rate:\n",
    "#         desired_length = int(round(float(len(waveform)) /original_sample_rate * desired_sample_rate))\n",
    "#         waveform = scipy.signal.resample(waveform, desired_length)\n",
    "#     return waveform"
   ]
  },
  {
   "cell_type": "code",
   "execution_count": 17,
   "id": "mH_fJJNqPE0R",
   "metadata": {
    "id": "mH_fJJNqPE0R"
   },
   "outputs": [],
   "source": [
    "# sample_rate,wav_data = wavfile.read(test_path + \"/\"[0] + test_files[0])\n",
    "# wav_data = ensure_sample_rate(sample_rate, wav_data)/ tf.int16.max\n",
    "# print(wav_data)\n",
    "# print(sample_rate)\n"
   ]
  },
  {
   "cell_type": "code",
   "execution_count": 18,
   "id": "0Av0C-ilVSoM",
   "metadata": {
    "id": "0Av0C-ilVSoM"
   },
   "outputs": [],
   "source": [
    "# score, embedding, spectrogram = yamnet_model(wav_data)"
   ]
  },
  {
   "cell_type": "code",
   "execution_count": 19,
   "id": "fRykFxmfACZH",
   "metadata": {
    "id": "fRykFxmfACZH"
   },
   "outputs": [],
   "source": [
    "# embedding"
   ]
  },
  {
   "cell_type": "code",
   "execution_count": 20,
   "id": "UKNVjWVUfBZ9",
   "metadata": {
    "id": "UKNVjWVUfBZ9"
   },
   "outputs": [],
   "source": [
    "# wav_data.shape"
   ]
  },
  {
   "cell_type": "code",
   "execution_count": 21,
   "id": "fAhVL4KxfItS",
   "metadata": {
    "id": "fAhVL4KxfItS"
   },
   "outputs": [],
   "source": [
    "# smile_data = smile(wav_data,16000).reshape((88))"
   ]
  },
  {
   "cell_type": "code",
   "execution_count": 22,
   "id": "wc0hTjVDV3Qw",
   "metadata": {
    "id": "wc0hTjVDV3Qw"
   },
   "outputs": [],
   "source": [
    "# dummy_data = [wav_data, smile_data]"
   ]
  },
  {
   "cell_type": "code",
   "execution_count": 33,
   "id": "G1OYQ3X0VeEr",
   "metadata": {
    "id": "G1OYQ3X0VeEr"
   },
   "outputs": [],
   "source": [
    "def create_dummy():\n",
    "\n",
    "    input_yamnet = tf.keras.layers.Input(shape=(2048), dtype=tf.float32, name='audio', ragged = True)\n",
    "    input_yamnet = tf.reshape(input_yamnet, [-1,1,2048])\n",
    "#     input_yamnet = tf.keras.layers.BatchNormalization()(input_yamnet)\n",
    "    input_smile = tf.keras.layers.Input(shape=(88), dtype=tf.float32, name='smile', ragged = True)\n",
    "    input_smile = tf.reshape(input_smile, [-1,1,88])\n",
    "    \n",
    "\n",
    "\n",
    "    concat_layer = tf.keras.layers.Concatenate(axis = 2 )([input_smile , input_yamnet])\n",
    "\n",
    "    first_layer = tf.keras.layers.Dense(16, activation = \"selu\")(concat_layer)\n",
    "    first_layer =  tf.keras.layers.BatchNormalization()(first_layer)\n",
    "#     first_layer = tf.keras.layers.Dense(1024, activation = \"relu\")(concat_layer)\n",
    "#     first_layer =  tf.keras.layers.BatchNormalization()(first_layer)\n",
    "    \n",
    "#     first_layer = tf.keras.layers.Dense(512, activation = \"relu\")(first_layer)\n",
    "#     first_layer =  tf.keras.layers.BatchNormalization()(first_layer)\n",
    "#     first_layer = tf.keras.layers.Dense(128, activation = \"relu\")(first_layer)\n",
    "#     first_layer =  tf.keras.layers.BatchNormalization()(first_layer)\n",
    "\n",
    "    output = tf.keras.layers.Dense(13,activation = None, dtype='float32')(first_layer)\n",
    "    output = tf.keras.layers.BatchNormalization()(output)\n",
    "    output = tf.keras.layers.Activation(\"softmax\")(output)\n",
    "    output = tf.reshape(output, [-1,13])\n",
    "    # output = ReduceMeanLayer(axis=0, name='classifier')(output)\n",
    "    model = tf.keras.models.Model(inputs=[input_yamnet,input_smile], outputs= output)\n",
    "    # model = tf.keras.models.Model(inputs=input_segment, outputs= output)\n",
    "    model.compile(loss=\"categorical_crossentropy\",metrics=[\"accuracy\"],optimizer = \"RMSprop\")\n",
    "    return model\n",
    "\n",
    "dummy_model = create_dummy()"
   ]
  },
  {
   "cell_type": "code",
   "execution_count": 24,
   "id": "49caa41e",
   "metadata": {
    "id": "49caa41e"
   },
   "outputs": [],
   "source": [
    "lr_min = 1e-5/factor\n",
    "lr_max = 1e-2/factor\n",
    "\n",
    "def my_cosine_decay(epoch,\n",
    "                    epoch_max=5,\n",
    "                    LR_START = 0.0001/2,\n",
    "                    LR_MAX =  lr_max,\n",
    "                    LR_MIN = lr_min,\n",
    "                    LR_RAMPUP_EPOCHS = 3,\n",
    "                    LR_SUSTAIN_EPOCHS = 0,\n",
    "                    LR_ALPHA_DECAY = .7\n",
    "                   ):\n",
    "    if epoch < LR_RAMPUP_EPOCHS:\n",
    "        learning_rate = (LR_MAX - LR_START) / LR_RAMPUP_EPOCHS * epoch + LR_START\n",
    "    elif epoch < LR_RAMPUP_EPOCHS + LR_SUSTAIN_EPOCHS:\n",
    "        learning_rate = LR_MAX\n",
    "    else:\n",
    "        cosine_decay=max(0.5*(1+np.cos(np.pi*((epoch-LR_RAMPUP_EPOCHS)/epoch_max))),LR_MIN)\n",
    "        decayed=(1-LR_ALPHA_DECAY)*cosine_decay+LR_ALPHA_DECAY\n",
    "        learning_rate=LR_MAX*decayed\n",
    "    return learning_rate\n",
    "\n",
    "def lr_decay(epoch,\n",
    "            LR_START = lr_max/2,\n",
    "            LR_MAX =  lr_max,\n",
    "            LR_MIN = lr_min,\n",
    "            LR_RAMPUP_EPOCHS = 3,\n",
    "            LR_SUSTAIN_EPOCHS = 0,\n",
    "            LR_ALPHA_DECAY = .05\n",
    "                   ):\n",
    "    learning_rate=max(LR_MAX*np.exp(-LR_ALPHA_DECAY*epoch), LR_MIN)\n",
    "    return learning_rate\n",
    "   \n",
    "\n",
    "def my_clr(epoch,\n",
    "           epoch_cycle = 8,\n",
    "           LR_MIN = lr_min,\n",
    "           LR_MAX = lr_max,\n",
    "           LR_ALPHA_DECAY = .9):\n",
    "    nb_cycle = epoch // epoch_cycle\n",
    "    k=0\n",
    "    while k < nb_cycle :\n",
    "        LR_MAX = (LR_MAX+ LR_MIN)*LR_ALPHA_DECAY\n",
    "        k += 1\n",
    "    if epoch % epoch_cycle < epoch_cycle//2 :\n",
    "        learning_rate = (LR_MAX - LR_MIN) / (epoch_cycle//2) * (epoch % (epoch_cycle//2)) + LR_MIN\n",
    "    else :\n",
    "        learning_rate = -(LR_MAX - LR_MIN) / (epoch_cycle//2) * (epoch % (epoch_cycle//2)) + LR_MAX\n",
    "    return learning_rate\n",
    "    \n",
    "lrfn=lambda epoch : my_clr(\n",
    "       epoch,\n",
    "        LR_MIN = lr_min,\n",
    "        LR_MAX = lr_max\n",
    "    )\n",
    "\n",
    "\n",
    "checkpoint_dir = os.path.dirname(checkpoint_filepath)\n",
    "\n",
    "model_checkpoint_callback = tf.keras.callbacks.ModelCheckpoint(\n",
    "    filepath=checkpoint_filepath,\n",
    "    save_weights_only=True,\n",
    "    monitor='val_accuracy',\n",
    "    mode='max',\n",
    "    save_best_only=True)\n",
    "\n",
    "lr_callback = tf.keras.callbacks.LearningRateScheduler(lrfn, verbose = True)\n",
    "early_stopper = tf.keras.callbacks.EarlyStopping(monitor='val_loss',patience=16,verbose=1)"
   ]
  },
  {
   "cell_type": "code",
   "execution_count": 34,
   "id": "bd05203a",
   "metadata": {
    "id": "bd05203a",
    "scrolled": true
   },
   "outputs": [
    {
     "name": "stdout",
     "output_type": "stream",
     "text": [
      "\n",
      "Epoch 1: LearningRateScheduler setting learning rate to 6.25e-07.\n",
      "Epoch 1/1000\n",
      "18/18 [==============================] - 3s 118ms/step - loss: 2.9017 - accuracy: 0.0000e+00 - val_loss: 12.8566 - val_accuracy: 0.0000e+00 - lr: 6.2500e-07\n",
      "\n",
      "Epoch 2: LearningRateScheduler setting learning rate to 0.00015671875.\n",
      "Epoch 2/1000\n",
      "18/18 [==============================] - 2s 106ms/step - loss: 2.2178 - accuracy: 0.3111 - val_loss: 11.7324 - val_accuracy: 0.0000e+00 - lr: 1.5672e-04\n",
      "\n",
      "Epoch 3: LearningRateScheduler setting learning rate to 0.0003128125.\n",
      "Epoch 3/1000\n",
      "18/18 [==============================] - 2s 105ms/step - loss: 1.5778 - accuracy: 0.6778 - val_loss: 12.0811 - val_accuracy: 0.0000e+00 - lr: 3.1281e-04\n",
      "\n",
      "Epoch 4: LearningRateScheduler setting learning rate to 0.00046890625000000003.\n",
      "Epoch 4/1000\n",
      "18/18 [==============================] - 1s 86ms/step - loss: 1.4731 - accuracy: 0.8111 - val_loss: 11.7241 - val_accuracy: 0.0000e+00 - lr: 4.6891e-04\n",
      "\n",
      "Epoch 5: LearningRateScheduler setting learning rate to 0.000625.\n",
      "Epoch 5/1000\n",
      "18/18 [==============================] - 2s 88ms/step - loss: 1.3661 - accuracy: 0.8444 - val_loss: 11.6606 - val_accuracy: 0.0000e+00 - lr: 6.2500e-04\n",
      "\n",
      "Epoch 6: LearningRateScheduler setting learning rate to 0.00046890625000000003.\n",
      "Epoch 6/1000\n",
      "18/18 [==============================] - 2s 91ms/step - loss: 1.2415 - accuracy: 0.8944 - val_loss: 11.8928 - val_accuracy: 0.0000e+00 - lr: 4.6891e-04\n",
      "\n",
      "Epoch 7: LearningRateScheduler setting learning rate to 0.0003128125.\n",
      "Epoch 7/1000\n",
      "18/18 [==============================] - 2s 95ms/step - loss: 1.1812 - accuracy: 0.9000 - val_loss: 11.4547 - val_accuracy: 0.0000e+00 - lr: 3.1281e-04\n",
      "\n",
      "Epoch 8: LearningRateScheduler setting learning rate to 0.00015671874999999996.\n",
      "Epoch 8/1000\n",
      "18/18 [==============================] - 2s 90ms/step - loss: 1.1474 - accuracy: 0.9000 - val_loss: 10.9705 - val_accuracy: 0.3333 - lr: 1.5672e-04\n",
      "\n",
      "Epoch 9: LearningRateScheduler setting learning rate to 6.25e-07.\n",
      "Epoch 9/1000\n",
      "18/18 [==============================] - 2s 93ms/step - loss: 1.1413 - accuracy: 0.9000 - val_loss: 10.9229 - val_accuracy: 0.3333 - lr: 6.2500e-07\n",
      "\n",
      "Epoch 10: LearningRateScheduler setting learning rate to 0.000141234375.\n",
      "Epoch 10/1000\n",
      "18/18 [==============================] - 2s 91ms/step - loss: 1.1353 - accuracy: 0.9111 - val_loss: 10.8743 - val_accuracy: 0.3333 - lr: 1.4123e-04\n",
      "\n",
      "Epoch 11: LearningRateScheduler setting learning rate to 0.00028184375.\n",
      "Epoch 11/1000\n",
      "18/18 [==============================] - 2s 88ms/step - loss: 1.1645 - accuracy: 0.9278 - val_loss: 12.1853 - val_accuracy: 0.0000e+00 - lr: 2.8184e-04\n",
      "\n",
      "Epoch 12: LearningRateScheduler setting learning rate to 0.000422453125.\n",
      "Epoch 12/1000\n",
      "18/18 [==============================] - 2s 94ms/step - loss: 1.1274 - accuracy: 0.9778 - val_loss: 16.1181 - val_accuracy: 0.0000e+00 - lr: 4.2245e-04\n",
      "\n",
      "Epoch 13: LearningRateScheduler setting learning rate to 0.0005630625.\n",
      "Epoch 13/1000\n",
      "18/18 [==============================] - 2s 102ms/step - loss: 1.1602 - accuracy: 0.9833 - val_loss: 10.7487 - val_accuracy: 0.3333 - lr: 5.6306e-04\n",
      "\n",
      "Epoch 14: LearningRateScheduler setting learning rate to 0.000422453125.\n",
      "Epoch 14/1000\n",
      "18/18 [==============================] - 1s 83ms/step - loss: 1.0823 - accuracy: 0.9778 - val_loss: 16.1181 - val_accuracy: 0.0000e+00 - lr: 4.2245e-04\n",
      "\n",
      "Epoch 15: LearningRateScheduler setting learning rate to 0.00028184375.\n",
      "Epoch 15/1000\n",
      "18/18 [==============================] - 2s 94ms/step - loss: 1.0277 - accuracy: 1.0000 - val_loss: 16.1181 - val_accuracy: 0.0000e+00 - lr: 2.8184e-04\n",
      "\n",
      "Epoch 16: LearningRateScheduler setting learning rate to 0.00014123437499999998.\n",
      "Epoch 16/1000\n",
      "18/18 [==============================] - 2s 90ms/step - loss: 1.0015 - accuracy: 1.0000 - val_loss: 16.1181 - val_accuracy: 0.0000e+00 - lr: 1.4123e-04\n",
      "\n",
      "Epoch 17: LearningRateScheduler setting learning rate to 6.25e-07.\n",
      "Epoch 17/1000\n",
      "18/18 [==============================] - 2s 95ms/step - loss: 0.9983 - accuracy: 1.0000 - val_loss: 16.1181 - val_accuracy: 0.0000e+00 - lr: 6.2500e-07\n",
      "\n",
      "Epoch 18: LearningRateScheduler setting learning rate to 0.00012729843750000001.\n",
      "Epoch 18/1000\n",
      "18/18 [==============================] - 2s 89ms/step - loss: 0.9944 - accuracy: 1.0000 - val_loss: 13.1916 - val_accuracy: 0.0000e+00 - lr: 1.2730e-04\n",
      "\n",
      "Epoch 19: LearningRateScheduler setting learning rate to 0.000253971875.\n",
      "Epoch 19/1000\n",
      "18/18 [==============================] - 2s 96ms/step - loss: 1.0037 - accuracy: 1.0000 - val_loss: 14.1802 - val_accuracy: 0.0000e+00 - lr: 2.5397e-04\n",
      "\n",
      "Epoch 20: LearningRateScheduler setting learning rate to 0.00038064531250000004.\n",
      "Epoch 20/1000\n",
      "18/18 [==============================] - 2s 93ms/step - loss: 0.9949 - accuracy: 1.0000 - val_loss: 16.1181 - val_accuracy: 0.0000e+00 - lr: 3.8065e-04\n",
      "\n",
      "Epoch 21: LearningRateScheduler setting learning rate to 0.00050731875.\n",
      "Epoch 21/1000\n",
      "18/18 [==============================] - 2s 89ms/step - loss: 0.9912 - accuracy: 0.9944 - val_loss: 15.5451 - val_accuracy: 0.0000e+00 - lr: 5.0732e-04\n",
      "\n",
      "Epoch 22: LearningRateScheduler setting learning rate to 0.00038064531250000004.\n",
      "Epoch 22/1000\n",
      "18/18 [==============================] - 1s 86ms/step - loss: 0.9380 - accuracy: 1.0000 - val_loss: 10.9229 - val_accuracy: 0.0000e+00 - lr: 3.8065e-04\n",
      "\n",
      "Epoch 23: LearningRateScheduler setting learning rate to 0.000253971875.\n",
      "Epoch 23/1000\n",
      "18/18 [==============================] - 2s 92ms/step - loss: 0.9202 - accuracy: 1.0000 - val_loss: 9.1187 - val_accuracy: 0.0000e+00 - lr: 2.5397e-04\n",
      "\n",
      "Epoch 24: LearningRateScheduler setting learning rate to 0.00012729843749999996.\n",
      "Epoch 24/1000\n",
      "18/18 [==============================] - 2s 90ms/step - loss: 0.9024 - accuracy: 1.0000 - val_loss: 8.1679 - val_accuracy: 0.3333 - lr: 1.2730e-04\n",
      "\n",
      "Epoch 25: LearningRateScheduler setting learning rate to 6.25e-07.\n",
      "Epoch 25/1000\n",
      "18/18 [==============================] - 2s 90ms/step - loss: 0.8977 - accuracy: 1.0000 - val_loss: 7.8789 - val_accuracy: 0.3333 - lr: 6.2500e-07\n",
      "\n",
      "Epoch 26: LearningRateScheduler setting learning rate to 0.00011475609375000002.\n",
      "Epoch 26/1000\n",
      "18/18 [==============================] - 2s 89ms/step - loss: 0.8978 - accuracy: 1.0000 - val_loss: 10.6015 - val_accuracy: 0.0000e+00 - lr: 1.1476e-04\n",
      "\n",
      "Epoch 27: LearningRateScheduler setting learning rate to 0.00022888718750000003.\n",
      "Epoch 27/1000\n",
      "18/18 [==============================] - 2s 92ms/step - loss: 0.9007 - accuracy: 1.0000 - val_loss: 16.1181 - val_accuracy: 0.0000e+00 - lr: 2.2889e-04\n",
      "\n",
      "Epoch 28: LearningRateScheduler setting learning rate to 0.00034301828125.\n",
      "Epoch 28/1000\n",
      "18/18 [==============================] - 2s 92ms/step - loss: 0.8976 - accuracy: 1.0000 - val_loss: 16.1181 - val_accuracy: 0.0000e+00 - lr: 3.4302e-04\n",
      "\n",
      "Epoch 29: LearningRateScheduler setting learning rate to 0.00045714937500000003.\n",
      "Epoch 29/1000\n",
      "18/18 [==============================] - 2s 107ms/step - loss: 0.8993 - accuracy: 1.0000 - val_loss: 12.5512 - val_accuracy: 0.0000e+00 - lr: 4.5715e-04\n",
      "\n",
      "Epoch 30: LearningRateScheduler setting learning rate to 0.00034301828125.\n",
      "Epoch 30/1000\n",
      "18/18 [==============================] - 2s 89ms/step - loss: 0.8573 - accuracy: 1.0000 - val_loss: 16.1181 - val_accuracy: 0.0000e+00 - lr: 3.4302e-04\n",
      "\n",
      "Epoch 31: LearningRateScheduler setting learning rate to 0.0002288871875.\n",
      "Epoch 31/1000\n",
      "18/18 [==============================] - 2s 92ms/step - loss: 0.8391 - accuracy: 1.0000 - val_loss: 11.6290 - val_accuracy: 0.0000e+00 - lr: 2.2889e-04\n",
      "\n",
      "Epoch 32: LearningRateScheduler setting learning rate to 0.00011475609374999999.\n",
      "Epoch 32/1000\n",
      "18/18 [==============================] - 2s 91ms/step - loss: 0.8263 - accuracy: 1.0000 - val_loss: 6.7067 - val_accuracy: 0.0000e+00 - lr: 1.1476e-04\n",
      "\n",
      "Epoch 33: LearningRateScheduler setting learning rate to 6.25e-07.\n",
      "Epoch 33/1000\n",
      "18/18 [==============================] - 2s 91ms/step - loss: 0.8228 - accuracy: 1.0000 - val_loss: 5.6882 - val_accuracy: 0.0000e+00 - lr: 6.2500e-07\n",
      "\n",
      "Epoch 34: LearningRateScheduler setting learning rate to 0.00010346798437500001.\n",
      "Epoch 34/1000\n",
      "18/18 [==============================] - 2s 93ms/step - loss: 0.8227 - accuracy: 1.0000 - val_loss: 2.0444 - val_accuracy: 0.3333 - lr: 1.0347e-04\n",
      "\n",
      "Epoch 35: LearningRateScheduler setting learning rate to 0.00020631096875000003.\n"
     ]
    },
    {
     "name": "stdout",
     "output_type": "stream",
     "text": [
      "Epoch 35/1000\n",
      "18/18 [==============================] - 2s 96ms/step - loss: 0.8244 - accuracy: 1.0000 - val_loss: 16.1181 - val_accuracy: 0.0000e+00 - lr: 2.0631e-04\n",
      "\n",
      "Epoch 36: LearningRateScheduler setting learning rate to 0.000309153953125.\n",
      "Epoch 36/1000\n",
      "18/18 [==============================] - 2s 92ms/step - loss: 0.8203 - accuracy: 1.0000 - val_loss: 16.1181 - val_accuracy: 0.0000e+00 - lr: 3.0915e-04\n",
      "\n",
      "Epoch 37: LearningRateScheduler setting learning rate to 0.0004119969375.\n",
      "Epoch 37/1000\n",
      "18/18 [==============================] - 1s 82ms/step - loss: 0.8133 - accuracy: 1.0000 - val_loss: 16.1181 - val_accuracy: 0.0000e+00 - lr: 4.1200e-04\n",
      "\n",
      "Epoch 38: LearningRateScheduler setting learning rate to 0.000309153953125.\n",
      "Epoch 38/1000\n",
      "18/18 [==============================] - 2s 95ms/step - loss: 0.7872 - accuracy: 1.0000 - val_loss: 16.1181 - val_accuracy: 0.0000e+00 - lr: 3.0915e-04\n",
      "\n",
      "Epoch 39: LearningRateScheduler setting learning rate to 0.00020631096875.\n",
      "Epoch 39/1000\n",
      "18/18 [==============================] - 2s 95ms/step - loss: 0.7726 - accuracy: 1.0000 - val_loss: 16.1181 - val_accuracy: 0.0000e+00 - lr: 2.0631e-04\n",
      "\n",
      "Epoch 40: LearningRateScheduler setting learning rate to 0.00010346798437500001.\n",
      "Epoch 40/1000\n",
      "18/18 [==============================] - 2s 94ms/step - loss: 0.7645 - accuracy: 1.0000 - val_loss: 16.1181 - val_accuracy: 0.0000e+00 - lr: 1.0347e-04\n",
      "\n",
      "Epoch 41: LearningRateScheduler setting learning rate to 6.25e-07.\n",
      "Epoch 41/1000\n",
      "18/18 [==============================] - 2s 100ms/step - loss: 0.7618 - accuracy: 1.0000 - val_loss: 16.1181 - val_accuracy: 0.0000e+00 - lr: 6.2500e-07\n",
      "\n",
      "Epoch 42: LearningRateScheduler setting learning rate to 9.33086859375e-05.\n",
      "Epoch 42/1000\n",
      "18/18 [==============================] - 2s 90ms/step - loss: 0.7611 - accuracy: 1.0000 - val_loss: 16.1181 - val_accuracy: 0.0000e+00 - lr: 9.3309e-05\n",
      "\n",
      "Epoch 43: LearningRateScheduler setting learning rate to 0.000185992371875.\n",
      "Epoch 43/1000\n",
      "18/18 [==============================] - 2s 97ms/step - loss: 0.7600 - accuracy: 1.0000 - val_loss: 16.1181 - val_accuracy: 0.0000e+00 - lr: 1.8599e-04\n",
      "\n",
      "Epoch 44: LearningRateScheduler setting learning rate to 0.00027867605781249996.\n",
      "Epoch 44/1000\n",
      "18/18 [==============================] - 2s 90ms/step - loss: 0.7587 - accuracy: 1.0000 - val_loss: 16.1181 - val_accuracy: 0.0000e+00 - lr: 2.7868e-04\n",
      "\n",
      "Epoch 45: LearningRateScheduler setting learning rate to 0.00037135974375.\n",
      "Epoch 45/1000\n",
      "18/18 [==============================] - 2s 88ms/step - loss: 0.7570 - accuracy: 1.0000 - val_loss: 16.1181 - val_accuracy: 0.0000e+00 - lr: 3.7136e-04\n",
      "\n",
      "Epoch 46: LearningRateScheduler setting learning rate to 0.00027867605781249996.\n",
      "Epoch 46/1000\n",
      "18/18 [==============================] - 2s 88ms/step - loss: 0.7315 - accuracy: 1.0000 - val_loss: 16.1181 - val_accuracy: 0.0000e+00 - lr: 2.7868e-04\n",
      "\n",
      "Epoch 47: LearningRateScheduler setting learning rate to 0.00018599237187499998.\n",
      "Epoch 47/1000\n",
      "18/18 [==============================] - 2s 90ms/step - loss: 0.7185 - accuracy: 1.0000 - val_loss: 16.1181 - val_accuracy: 0.0000e+00 - lr: 1.8599e-04\n",
      "\n",
      "Epoch 48: LearningRateScheduler setting learning rate to 9.33086859375e-05.\n",
      "Epoch 48/1000\n",
      "18/18 [==============================] - 2s 96ms/step - loss: 0.7127 - accuracy: 1.0000 - val_loss: 16.1181 - val_accuracy: 0.0000e+00 - lr: 9.3309e-05\n",
      "\n",
      "Epoch 49: LearningRateScheduler setting learning rate to 6.25e-07.\n",
      "Epoch 49/1000\n",
      "18/18 [==============================] - 2s 94ms/step - loss: 0.7101 - accuracy: 1.0000 - val_loss: 16.1181 - val_accuracy: 0.0000e+00 - lr: 6.2500e-07\n",
      "\n",
      "Epoch 50: LearningRateScheduler setting learning rate to 8.416531734375e-05.\n",
      "Epoch 50/1000\n",
      "18/18 [==============================] - 2s 89ms/step - loss: 0.7097 - accuracy: 1.0000 - val_loss: 16.1181 - val_accuracy: 0.0000e+00 - lr: 8.4165e-05\n",
      "Epoch 50: early stopping\n"
     ]
    }
   ],
   "source": [
    "history = dummy_model.fit(x = ds_test,validation_data = ds_train, validation_steps=int(len(train_files)/batch_size) ,epochs = 1000, callbacks = [lr_callback, early_stopper], steps_per_epoch = int(len(test_files)/batch_size))"
   ]
  },
  {
   "cell_type": "code",
   "execution_count": 35,
   "id": "a3c75b1a",
   "metadata": {
    "id": "a3c75b1a"
   },
   "outputs": [
    {
     "data": {
      "image/png": "[encoded data removed]",
      "text/plain": [
       "<Figure size 432x288 with 1 Axes>"
      ]
     },
     "metadata": {
      "needs_background": "light"
     },
     "output_type": "display_data"
    }
   ],
   "source": [
    "\n",
    "plt.plot(np.arange(1,len(history.history[\"loss\"]) + 1),history.history[\"loss\"], color=\"blue\")\n",
    "plt.plot(np.arange(1,len(history.history[\"val_loss\"]) + 1),history.history[\"val_loss\"], color=\"orange\")\n",
    "plt.show()"
   ]
  },
  {
   "cell_type": "code",
   "execution_count": null,
   "id": "bae0b834",
   "metadata": {
    "scrolled": false
   },
   "outputs": [],
   "source": [
    "dummy_model.evaluate(ds_test,steps=int(len(test_files)/batch_size))"
   ]
  },
  {
   "cell_type": "code",
   "execution_count": null,
   "id": "48c9c4a3",
   "metadata": {},
   "outputs": [],
   "source": [
    "dummy_model.evaluate(ds_valid,steps=int(len(valid_files)/batch_size))"
   ]
  }
 ],
 "metadata": {
  "colab": {
   "collapsed_sections": [],
   "provenance": []
  },
  "gpuClass": "standard",
  "kernelspec": {
   "display_name": "Python 3 (ipykernel)",
   "language": "python",
   "name": "python3"
  },
  "language_info": {
   "codemirror_mode": {
    "name": "ipython",
    "version": 3
   },
   "file_extension": ".py",
   "mimetype": "text/x-python",
   "name": "python",
   "nbconvert_exporter": "python",
   "pygments_lexer": "ipython3",
   "version": "3.9.7"
  }
 },
 "nbformat": 4,
 "nbformat_minor": 5
}
